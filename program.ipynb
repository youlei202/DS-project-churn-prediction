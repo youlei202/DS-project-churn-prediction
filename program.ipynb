{
 "cells": [
  {
   "cell_type": "code",
   "execution_count": 1,
   "metadata": {
    "collapsed": true
   },
   "outputs": [],
   "source": [
    "from sklearn import preprocessing\n",
    "from sklearn.preprocessing import Imputer\n",
    "from sklearn.base import TransformerMixin\n",
    "\n",
    "import csv\n",
    "import pandas as pd\n",
    "import numpy as np\n"
   ]
  },
  {
   "cell_type": "code",
   "execution_count": 2,
   "metadata": {
    "collapsed": true
   },
   "outputs": [
    {
     "name": "stderr",
     "output_type": "stream",
     "text": [
      "/anaconda3/lib/python3.7/site-packages/ipykernel_launcher.py:16: FutureWarning: Sorting because non-concatenation axis is not aligned. A future version\n",
      "of pandas will change to not sort by default.\n",
      "\n",
      "To accept the future behavior, pass 'sort=False'.\n",
      "\n",
      "To retain the current behavior and silence the warning, pass 'sort=True'.\n",
      "\n",
      "  app.launch_new_instance()\n"
     ]
    }
   ],
   "source": [
    "# Read data\n",
    "\n",
    "X = pd.read_csv(\"ml_case_training_data.csv\")\n",
    "Y = pd.read_csv(\"ml_case_training_output.csv\")\n",
    "\n",
    "X['to_pred'] = 0\n",
    "Y['to_pred'] = 0\n",
    "\n",
    "X_to_pred = pd.read_csv(\"ml_case_test_data.csv\")\n",
    "Y_to_pred = pd.read_csv(\"ml_case_test_output_template.csv\")\n",
    "\n",
    "X_to_pred['to_pred'] = 1\n",
    "Y_to_pred['to_pred'] = 1\n",
    "\n",
    "X_comb = pd.concat([X, X_to_pred])\n",
    "Y_comb = pd.concat([Y, Y_to_pred])\n",
    "\n",
    "X = X.drop('to_pred',1)\n",
    "Y = Y.drop('to_pred',1)\n",
    "X_to_pred = X_to_pred.drop('to_pred',1)\n",
    "Y_to_pred = Y_to_pred.drop('to_pred',1)"
   ]
  },
  {
   "cell_type": "code",
   "execution_count": 3,
   "metadata": {},
   "outputs": [
    {
     "data": {
      "text/plain": [
       "lxidpiddsbxsbosboudacockeimpuepw    7825\n",
       "kamkkxfxxuwbdslkwifmmcsiusiuosws    4517\n",
       "ldkssxwpmemidmecebumciepifcamkci    3664\n",
       "usapbepcfoloekilkwsdiboslwaxobdp       2\n",
       "ewxeelcelemmiwuafmddpobolfuxioce       1\n",
       "Name: origin_up, dtype: int64"
      ]
     },
     "execution_count": 3,
     "metadata": {},
     "output_type": "execute_result"
    }
   ],
   "source": [
    "X['origin_up'].value_counts()"
   ]
  },
  {
   "cell_type": "code",
   "execution_count": 4,
   "metadata": {
    "scrolled": true
   },
   "outputs": [
    {
     "data": {
      "text/plain": [
       "True"
      ]
     },
     "execution_count": 4,
     "metadata": {},
     "output_type": "execute_result"
    }
   ],
   "source": [
    "# Check if 'id' of X_comb matches 'id' of Y_comb by rows\n",
    "\n",
    "pd.DataFrame(X_comb['id'] == Y_comb['id']).count()['id'] == len(X_comb)"
   ]
  },
  {
   "cell_type": "code",
   "execution_count": 5,
   "metadata": {
    "scrolled": false
   },
   "outputs": [
    {
     "name": "stdout",
     "output_type": "stream",
     "text": [
      "True\n",
      "20120 samples in total\n"
     ]
    }
   ],
   "source": [
    "# Check if 'id' is unique in X_comb (and then in Y_comb as well)\n",
    "print(X_comb.count()['id'] == len(X_comb))\n",
    "print(X_comb.count()['id'], 'samples in total')"
   ]
  },
  {
   "cell_type": "code",
   "execution_count": 6,
   "metadata": {},
   "outputs": [
    {
     "data": {
      "text/plain": [
       "id                          20120\n",
       "activity_new                 8221\n",
       "campaign_disc_ele               0\n",
       "channel_sales               14846\n",
       "cons_12m                    20120\n",
       "cons_gas_12m                20120\n",
       "cons_last_month             20120\n",
       "date_activ                  20120\n",
       "date_end                    20118\n",
       "date_first_activ             4385\n",
       "date_modif_prod             19918\n",
       "date_renewal                20076\n",
       "forecast_base_bill_ele       4385\n",
       "forecast_base_bill_year      4385\n",
       "forecast_bill_12m            4385\n",
       "forecast_cons                4385\n",
       "forecast_cons_12m           20120\n",
       "forecast_cons_year          20120\n",
       "forecast_discount_energy    19970\n",
       "forecast_meter_rent_12m     20120\n",
       "forecast_price_energy_p1    19970\n",
       "forecast_price_energy_p2    19970\n",
       "forecast_price_pow_p1       19970\n",
       "has_gas                     20120\n",
       "imp_cons                    20120\n",
       "margin_gross_pow_ele        20105\n",
       "margin_net_pow_ele          20105\n",
       "nb_prod_act                 20120\n",
       "net_margin                  20102\n",
       "num_years_antig             20120\n",
       "origin_up                   20006\n",
       "pow_max                     20116\n",
       "to_pred                     20120\n",
       "dtype: int64"
      ]
     },
     "execution_count": 6,
     "metadata": {},
     "output_type": "execute_result"
    }
   ],
   "source": [
    "# Let's look at the number of missing values in each column in X_comb\n",
    "X_comb.count()"
   ]
  },
  {
   "cell_type": "code",
   "execution_count": 46,
   "metadata": {
    "collapsed": true
   },
   "outputs": [],
   "source": [
    "# Because 'campaign_disc_ele' is empty, we can remove it\n",
    "X_comb = X_comb.drop('campaign_disc_ele',1)"
   ]
  },
  {
   "cell_type": "code",
   "execution_count": 47,
   "metadata": {},
   "outputs": [
    {
     "name": "stdout",
     "output_type": "stream",
     "text": [
      "['activity_new', 'date_first_activ', 'forecast_base_bill_ele', 'forecast_base_bill_year', 'forecast_bill_12m', 'forecast_cons']\n"
     ]
    }
   ],
   "source": [
    "# Positions of columns which have half values missing\n",
    "pos = [ i for i in range(len(list(X_comb))) if list(X_comb.count())[i] <= len(X_comb)/2  ]\n",
    "\n",
    "# Get the name of these columns above\n",
    "col_half_miss = [list(X_comb)[i] for i in pos ]\n",
    "print(col_half_miss)\n",
    "\n",
    "# Drop these columns from X\n",
    "X_comb = X_comb.drop(col_half_miss, 1)"
   ]
  },
  {
   "cell_type": "code",
   "execution_count": 48,
   "metadata": {
    "collapsed": true,
    "scrolled": false
   },
   "outputs": [],
   "source": [
    "# Remark that we have four columns of date information of \n",
    "# activation/end of the customers' contracts. The five columns\n",
    "# are 'date_activ', 'date_end', 'date_modif_prod', and 'date_renewal'.\n",
    "# Labeling these four columns and then directly use them in training is not the\n",
    "# best option. On the other hand, doing one-hot encoding is too expensive for these \n",
    "# columns. Hence we seek for an alternative, i.e. to convert these information to numerical ones.\n",
    "\n",
    "# Comparing 'date_activ' and 'date_modif_prod' gives whether a customer has changed the product\n",
    "col_prod_changed = pd.DataFrame(X['date_activ'] == X['date_modif_prod'],columns=['prod_changed'])\n",
    "\n",
    "# uncomment the lines below to comput prob1 and prob2 \n",
    "index_prod_changed = [ i for i in range(len(col_prod_changed)) if list(col_prod_changed['prod_changed'])[i]==True ]\n",
    "index_prod_unchanged = [ i for i in range(len(col_prod_changed)) if list(col_prod_changed['prod_changed'])[i]==False]\n",
    "\n",
    "index_churn = [i for i in range(len(Y)) if list(Y['churn'])[i] == 1]\n",
    "index_not_churn = [i for i in range(len(Y)) if list(Y['churn'])[i] == 0]"
   ]
  },
  {
   "cell_type": "code",
   "execution_count": 49,
   "metadata": {},
   "outputs": [
    {
     "data": {
      "text/plain": [
       "(0.496148111332008, 0.503851888667992)"
      ]
     },
     "execution_count": 49,
     "metadata": {},
     "output_type": "execute_result"
    }
   ],
   "source": [
    "# The probability of having products changed or not, over all customers\n",
    "prob_changed_in_whole = len(index_prod_changed)/(len(index_prod_changed) + len(index_prod_unchanged)*1.0)\n",
    "prob_unchanged_in_whole = 1-prob_changed_in_whole\n",
    "prob_changed_in_whole, prob_unchanged_in_whole"
   ]
  },
  {
   "cell_type": "code",
   "execution_count": 50,
   "metadata": {},
   "outputs": [
    {
     "data": {
      "image/png": "[encoded data removed]",
      "text/plain": [
       "<Figure size 432x288 with 1 Axes>"
      ]
     },
     "metadata": {
      "needs_background": "light"
     },
     "output_type": "display_data"
    }
   ],
   "source": [
    "import matplotlib.pyplot as plt\n",
    "plt.bar(['Product changed','Product not changed'],[prob_changed_in_whole*20120,prob_unchanged_in_whole*20120])\n",
    "# plt.title('Probability of changing product for all customers')\n",
    "plt.show()"
   ]
  },
  {
   "cell_type": "code",
   "execution_count": 51,
   "metadata": {},
   "outputs": [
    {
     "data": {
      "text/plain": [
       "(0.43009404388714734, 0.5699059561128527)"
      ]
     },
     "execution_count": 51,
     "metadata": {},
     "output_type": "execute_result"
    }
   ],
   "source": [
    "# The probability of having products changed or not, over all customers who churn \n",
    "prob_changed_in_churn = len(set(index_prod_changed) & set(index_churn)) / (1.0 * len(index_churn) )\n",
    "prob_unchanged_in_churn = 1 - prob_changed_in_churn\n",
    "prob_changed_in_churn, prob_unchanged_in_churn"
   ]
  },
  {
   "cell_type": "code",
   "execution_count": 52,
   "metadata": {},
   "outputs": [
    {
     "data": {
      "text/plain": [
       "(0.5034135576856769, 0.49658644231432314)"
      ]
     },
     "execution_count": 52,
     "metadata": {},
     "output_type": "execute_result"
    }
   ],
   "source": [
    "# The probability of having products changed or not, over all customers who don't churn \n",
    "prob_changed_in_notchurn = len(set(index_prod_changed) & set(index_not_churn)) / (1.0 * len(index_not_churn) )\n",
    "prob_unchanged_in_notchurn = 1 - prob_changed_in_notchurn\n",
    "prob_changed_in_notchurn, prob_unchanged_in_notchurn"
   ]
  },
  {
   "cell_type": "code",
   "execution_count": 53,
   "metadata": {},
   "outputs": [
    {
     "data": {
      "image/png": "[encoded data removed]",
      "text/plain": [
       "<Figure size 432x288 with 1 Axes>"
      ]
     },
     "metadata": {
      "needs_background": "light"
     },
     "output_type": "display_data"
    }
   ],
   "source": [
    "import matplotlib.pyplot as plt\n",
    "plt.bar(['Product changed','Product not changed'],[prob_changed_in_churn*1595,prob_unchanged_in_churn*1595])\n",
    "# plt.title('Probability of changing product for churning customers')\n",
    "plt.show()"
   ]
  },
  {
   "cell_type": "code",
   "execution_count": 54,
   "metadata": {
    "collapsed": true
   },
   "outputs": [],
   "source": [
    "# We can see that for the customers who churn, there is a visible trend \n",
    "# on that these customers may also have their product unchanged ever\n",
    "# Hence we use the column of having changed product or not, i.e. 'col_prod_changed', as a feature of training\n",
    "\n",
    "col_prod_changed = pd.DataFrame(X_comb['date_activ'] == X_comb['date_modif_prod'],columns=['prod_changed'])\n",
    "\n",
    "X_comb = pd.concat([X_comb, col_prod_changed], axis = 1)"
   ]
  },
  {
   "cell_type": "code",
   "execution_count": 55,
   "metadata": {
    "collapsed": true
   },
   "outputs": [],
   "source": [
    "# We then drop the  time information\n",
    "X_comb = X_comb.drop(['date_activ', 'date_end', 'date_modif_prod', 'date_renewal'], 1)"
   ]
  },
  {
   "cell_type": "code",
   "execution_count": 56,
   "metadata": {
    "collapsed": true
   },
   "outputs": [],
   "source": [
    "# We clean the null values in X. If a column is categorical, \n",
    "# then the null values are replaced by the most frequent value, \n",
    "# otherwise it is replaced by the mean of the column.\n",
    "\n",
    "class DataFrameImputer(TransformerMixin):\n",
    "\n",
    "    def __init__(self):\n",
    "        \"\"\"Impute missing values.\n",
    "\n",
    "        Columns of dtype object are imputed with the most frequent value \n",
    "        in column.\n",
    "\n",
    "        Columns of other types are imputed with mean of column.\n",
    "\n",
    "        \"\"\"\n",
    "    def fit(self, X, y=None):\n",
    "\n",
    "        self.fill = pd.Series([X[c].value_counts().index[0]\n",
    "            if X[c].dtype == np.dtype('O') else X[c].mean() for c in X],\n",
    "            index=X.columns)\n",
    "\n",
    "        return self\n",
    "\n",
    "    def transform(self, X, y=None):\n",
    "        return X.fillna(self.fill)\n",
    "\n",
    "X_comb = DataFrameImputer().fit_transform(X_comb)"
   ]
  },
  {
   "cell_type": "code",
   "execution_count": 57,
   "metadata": {
    "collapsed": true
   },
   "outputs": [],
   "source": [
    "# We have several categorical columns 'channel_sales' and 'origin_up'.\n",
    "# They are encoded with labels, and then transformed to be corresponding one-hot labels.\n",
    "\n",
    "onehot_columns = ['origin_up','channel_sales', 'prod_changed','has_gas','nb_prod_act', 'num_years_antig']"
   ]
  },
  {
   "cell_type": "code",
   "execution_count": 58,
   "metadata": {
    "collapsed": true
   },
   "outputs": [],
   "source": [
    "# Normalization of X\n",
    "from sklearn.preprocessing import normalize\n",
    "X_norm = X_comb.drop(onehot_columns,1)\n",
    "X_norm = X_norm.drop(['id','to_pred'],1)\n",
    "X_norm = pd.DataFrame(normalize(X_norm), columns = X_norm.columns, index=X_comb.index)"
   ]
  },
  {
   "cell_type": "code",
   "execution_count": 59,
   "metadata": {
    "collapsed": true
   },
   "outputs": [],
   "source": [
    "# Scaling\n",
    "from sklearn.preprocessing import StandardScaler\n",
    "\n",
    "ss = StandardScaler()\n",
    "X_norm = pd.DataFrame(ss.fit_transform(X_norm), columns = X_norm.columns, index=X_comb.index)\n",
    "X_norm = pd.DataFrame(X_norm, columns = X_norm.columns, index=X_comb.index)"
   ]
  },
  {
   "cell_type": "code",
   "execution_count": 60,
   "metadata": {
    "collapsed": true
   },
   "outputs": [],
   "source": [
    "X_comb = pd.concat([X_norm, X_comb.drop(X_norm.columns,1)],1)"
   ]
  },
  {
   "cell_type": "code",
   "execution_count": 61,
   "metadata": {
    "collapsed": true
   },
   "outputs": [],
   "source": [
    "X_comb = pd.get_dummies(X_comb, columns=onehot_columns)"
   ]
  },
  {
   "cell_type": "code",
   "execution_count": 62,
   "metadata": {
    "collapsed": true
   },
   "outputs": [],
   "source": [
    "X_labeled = X_comb[X_comb['to_pred']==0]\n",
    "X_to_pred = X_comb[X_comb['to_pred']==1]\n",
    "y_labeled = Y_comb[X_comb['to_pred']==0]\n",
    "y_to_pred = Y_comb[X_comb['to_pred']==1]"
   ]
  },
  {
   "cell_type": "code",
   "execution_count": 63,
   "metadata": {
    "collapsed": true
   },
   "outputs": [],
   "source": [
    "X = X_labeled.drop(['to_pred','id'],1)\n",
    "Y = y_labeled[['churn']]"
   ]
  },
  {
   "cell_type": "code",
   "execution_count": 64,
   "metadata": {},
   "outputs": [
    {
     "name": "stdout",
     "output_type": "stream",
     "text": [
      "Class Churn: 1595\n",
      "Class Not-Churn: 14501\n",
      "Proportion: 9.0915 : 1\n"
     ]
    },
    {
     "data": {
      "image/png": "[encoded data removed]",
      "text/plain": [
       "<Figure size 432x288 with 1 Axes>"
      ]
     },
     "metadata": {
      "needs_background": "light"
     },
     "output_type": "display_data"
    }
   ],
   "source": [
    "# Split data set by classes (i.e. churn or not)\n",
    "# One can observe that how imbalance the data set is. \n",
    "X_churn = X.loc[Y['churn'] == 1]\n",
    "Y_churn = Y.loc[Y['churn'] == 1]\n",
    "\n",
    "X_not_churn = X.loc[Y['churn'] == 0]\n",
    "Y_not_churn = Y.loc[Y['churn'] == 0]\n",
    "\n",
    "print('Class Churn:', len(X_churn))\n",
    "print('Class Not-Churn:', len(X_not_churn))\n",
    "print('Proportion:', round(len(X_not_churn) /(len(X_churn)*1.0), 4), ': 1')\n",
    "\n",
    "import matplotlib.pyplot as plt\n",
    "plt.bar(['Churn','Not-Churn'],[len(X_churn),len(X_not_churn)])\n",
    "plt.show()"
   ]
  },
  {
   "cell_type": "code",
   "execution_count": 65,
   "metadata": {
    "collapsed": true
   },
   "outputs": [],
   "source": [
    "from sklearn.model_selection import train_test_split\n",
    "X_train, X_test,y_train, y_test = train_test_split(X,Y,test_size=0.2,random_state=43)"
   ]
  },
  {
   "cell_type": "code",
   "execution_count": 66,
   "metadata": {
    "collapsed": true
   },
   "outputs": [],
   "source": [
    "# classifier comparison\n",
    "import time\n",
    "import numpy as np\n",
    "import matplotlib.pyplot as plt\n",
    "from matplotlib.colors import ListedColormap\n",
    "from sklearn.model_selection import train_test_split\n",
    "from sklearn.preprocessing import StandardScaler\n",
    "from sklearn.datasets import make_moons, make_circles, make_classification\n",
    "from sklearn.neural_network import MLPClassifier\n",
    "from sklearn.neighbors import KNeighborsClassifier\n",
    "from sklearn.svm import SVC\n",
    "from sklearn.gaussian_process import GaussianProcessClassifier\n",
    "from sklearn.gaussian_process.kernels import RBF\n",
    "from sklearn.tree import DecisionTreeClassifier\n",
    "from sklearn.ensemble import RandomForestClassifier, AdaBoostClassifier, BaggingClassifier\n",
    "from sklearn.ensemble import VotingClassifier\n",
    "from sklearn.naive_bayes import GaussianNB\n",
    "from sklearn.discriminant_analysis import QuadraticDiscriminantAnalysis\n",
    "from sklearn.metrics import classification_report, roc_curve, auc\n",
    "from sklearn.model_selection import cross_val_score,RandomizedSearchCV, GridSearchCV\n",
    "from sklearn.pipeline import make_pipeline\n",
    "from sklearn.linear_model import LogisticRegression\n"
   ]
  },
  {
   "cell_type": "code",
   "execution_count": 67,
   "metadata": {
    "scrolled": true
   },
   "outputs": [
    {
     "name": "stdout",
     "output_type": "stream",
     "text": [
      "Nearest Neighbors Training ... \n",
      "Finished!\n",
      "Decision Tree Training ... \n",
      "Finished!\n",
      "Logistic Regression Training ... \n"
     ]
    },
    {
     "name": "stderr",
     "output_type": "stream",
     "text": [
      "/anaconda3/envs/Py3_R/lib/python3.7/site-packages/sklearn/linear_model/logistic.py:433: FutureWarning: Default solver will be changed to 'lbfgs' in 0.22. Specify a solver to silence this warning.\n",
      "  FutureWarning)\n",
      "/anaconda3/envs/Py3_R/lib/python3.7/site-packages/sklearn/linear_model/logistic.py:433: FutureWarning: Default solver will be changed to 'lbfgs' in 0.22. Specify a solver to silence this warning.\n",
      "  FutureWarning)\n",
      "/anaconda3/envs/Py3_R/lib/python3.7/site-packages/sklearn/linear_model/logistic.py:433: FutureWarning: Default solver will be changed to 'lbfgs' in 0.22. Specify a solver to silence this warning.\n",
      "  FutureWarning)\n",
      "/anaconda3/envs/Py3_R/lib/python3.7/site-packages/sklearn/linear_model/logistic.py:433: FutureWarning: Default solver will be changed to 'lbfgs' in 0.22. Specify a solver to silence this warning.\n",
      "  FutureWarning)\n",
      "/anaconda3/envs/Py3_R/lib/python3.7/site-packages/sklearn/linear_model/logistic.py:433: FutureWarning: Default solver will be changed to 'lbfgs' in 0.22. Specify a solver to silence this warning.\n",
      "  FutureWarning)\n",
      "/anaconda3/envs/Py3_R/lib/python3.7/site-packages/sklearn/linear_model/logistic.py:433: FutureWarning: Default solver will be changed to 'lbfgs' in 0.22. Specify a solver to silence this warning.\n",
      "  FutureWarning)\n",
      "/anaconda3/envs/Py3_R/lib/python3.7/site-packages/sklearn/linear_model/logistic.py:433: FutureWarning: Default solver will be changed to 'lbfgs' in 0.22. Specify a solver to silence this warning.\n",
      "  FutureWarning)\n",
      "/anaconda3/envs/Py3_R/lib/python3.7/site-packages/sklearn/linear_model/logistic.py:433: FutureWarning: Default solver will be changed to 'lbfgs' in 0.22. Specify a solver to silence this warning.\n",
      "  FutureWarning)\n",
      "/anaconda3/envs/Py3_R/lib/python3.7/site-packages/sklearn/linear_model/logistic.py:433: FutureWarning: Default solver will be changed to 'lbfgs' in 0.22. Specify a solver to silence this warning.\n",
      "  FutureWarning)\n",
      "/anaconda3/envs/Py3_R/lib/python3.7/site-packages/sklearn/linear_model/logistic.py:433: FutureWarning: Default solver will be changed to 'lbfgs' in 0.22. Specify a solver to silence this warning.\n",
      "  FutureWarning)\n",
      "/anaconda3/envs/Py3_R/lib/python3.7/site-packages/sklearn/linear_model/logistic.py:433: FutureWarning: Default solver will be changed to 'lbfgs' in 0.22. Specify a solver to silence this warning.\n",
      "  FutureWarning)\n",
      "/anaconda3/envs/Py3_R/lib/python3.7/site-packages/sklearn/linear_model/logistic.py:433: FutureWarning: Default solver will be changed to 'lbfgs' in 0.22. Specify a solver to silence this warning.\n",
      "  FutureWarning)\n",
      "/anaconda3/envs/Py3_R/lib/python3.7/site-packages/sklearn/linear_model/logistic.py:433: FutureWarning: Default solver will be changed to 'lbfgs' in 0.22. Specify a solver to silence this warning.\n",
      "  FutureWarning)\n",
      "/anaconda3/envs/Py3_R/lib/python3.7/site-packages/sklearn/linear_model/logistic.py:433: FutureWarning: Default solver will be changed to 'lbfgs' in 0.22. Specify a solver to silence this warning.\n",
      "  FutureWarning)\n",
      "/anaconda3/envs/Py3_R/lib/python3.7/site-packages/sklearn/linear_model/logistic.py:433: FutureWarning: Default solver will be changed to 'lbfgs' in 0.22. Specify a solver to silence this warning.\n",
      "  FutureWarning)\n",
      "/anaconda3/envs/Py3_R/lib/python3.7/site-packages/sklearn/linear_model/logistic.py:433: FutureWarning: Default solver will be changed to 'lbfgs' in 0.22. Specify a solver to silence this warning.\n",
      "  FutureWarning)\n",
      "/anaconda3/envs/Py3_R/lib/python3.7/site-packages/sklearn/linear_model/logistic.py:433: FutureWarning: Default solver will be changed to 'lbfgs' in 0.22. Specify a solver to silence this warning.\n",
      "  FutureWarning)\n"
     ]
    },
    {
     "name": "stdout",
     "output_type": "stream",
     "text": [
      "Finished!\n",
      "Random Forest Training ... \n"
     ]
    },
    {
     "name": "stderr",
     "output_type": "stream",
     "text": [
      "/anaconda3/envs/Py3_R/lib/python3.7/site-packages/sklearn/ensemble/forest.py:246: FutureWarning: The default value of n_estimators will change from 10 in version 0.20 to 100 in 0.22.\n",
      "  \"10 in version 0.20 to 100 in 0.22.\", FutureWarning)\n"
     ]
    },
    {
     "name": "stdout",
     "output_type": "stream",
     "text": [
      "Finished!\n",
      "Naive Bayes Training ... \n",
      "Finished!\n",
      "QDA Training ... \n"
     ]
    },
    {
     "name": "stderr",
     "output_type": "stream",
     "text": [
      "/anaconda3/envs/Py3_R/lib/python3.7/site-packages/sklearn/discriminant_analysis.py:692: UserWarning: Variables are collinear\n",
      "  warnings.warn(\"Variables are collinear\")\n",
      "/anaconda3/envs/Py3_R/lib/python3.7/site-packages/sklearn/discriminant_analysis.py:692: UserWarning: Variables are collinear\n",
      "  warnings.warn(\"Variables are collinear\")\n",
      "/anaconda3/envs/Py3_R/lib/python3.7/site-packages/sklearn/discriminant_analysis.py:692: UserWarning: Variables are collinear\n",
      "  warnings.warn(\"Variables are collinear\")\n",
      "/anaconda3/envs/Py3_R/lib/python3.7/site-packages/sklearn/discriminant_analysis.py:692: UserWarning: Variables are collinear\n",
      "  warnings.warn(\"Variables are collinear\")\n",
      "/anaconda3/envs/Py3_R/lib/python3.7/site-packages/sklearn/discriminant_analysis.py:692: UserWarning: Variables are collinear\n",
      "  warnings.warn(\"Variables are collinear\")\n",
      "/anaconda3/envs/Py3_R/lib/python3.7/site-packages/sklearn/discriminant_analysis.py:692: UserWarning: Variables are collinear\n",
      "  warnings.warn(\"Variables are collinear\")\n",
      "/anaconda3/envs/Py3_R/lib/python3.7/site-packages/sklearn/discriminant_analysis.py:692: UserWarning: Variables are collinear\n",
      "  warnings.warn(\"Variables are collinear\")\n"
     ]
    },
    {
     "name": "stdout",
     "output_type": "stream",
     "text": [
      "Finished!\n",
      "Bagging Training ... \n",
      "Finished!\n",
      "AdaBoost Training ... \n",
      "Finished!\n"
     ]
    }
   ],
   "source": [
    "names = [\n",
    "    \"Nearest Neighbors\", \n",
    "#     \"Linear SVM\", \n",
    "#     \"RBF SVM\",\n",
    "    \"Decision Tree\",\n",
    "    \"Logistic Regression\",\n",
    "    \"Random Forest\",  \n",
    "    \"Naive Bayes\", \n",
    "    \"QDA\",\n",
    "    \"Bagging\",\n",
    "    \"AdaBoost\"\n",
    "]\n",
    "\n",
    "classifiers = [\n",
    "    KNeighborsClassifier(),\n",
    "#     SVC(kernel=\"linear\"),\n",
    "#     SVC(),\n",
    "    DecisionTreeClassifier(max_depth=4),\n",
    "    LogisticRegression(),\n",
    "    RandomForestClassifier(max_depth=4),\n",
    "    GaussianNB(),\n",
    "    QuadraticDiscriminantAnalysis(),\n",
    "    BaggingClassifier(),\n",
    "    AdaBoostClassifier()\n",
    "]\n",
    "\n",
    "parameters = [\n",
    "    {'n_neighbors': [1,2,3]}, # Nearest Neighbors\n",
    "#     {'C': [0.01, 0.025, 0.5, 0.1]}, # Linear SVM\n",
    "#     {'C': [1, 1.5, 3, 7], 'gamma': [1, 2,3]}, # RBF SVM\n",
    "    {'max_depth':[2,4,8]}, # Decision Tree\n",
    "    {'C': [1,5,10]}, # Logistic Regression\n",
    "    {'max_depth': [8, 16, 32], 'min_samples_leaf':[2, 4, 8]}, # Random Forest\n",
    "    {}, # Naive Bayes\n",
    "    {}, # QDA\n",
    "    {'n_estimators':[5,10,15,20,25],'base_estimator':[]}, # Bagging\n",
    "    {'n_estimators':[2,3,4],'base_estimator':[]} # AdaBoost\n",
    "]\n",
    "\n",
    "best_classifiers = []\n",
    "\n",
    "for name, clf, par in zip(names, classifiers, parameters):\n",
    "    print(name, 'Training ... ')\n",
    "    clf.fit(X_train,y_train.values.ravel())\n",
    "        \n",
    "    clf_best = GridSearchCV(estimator=clf,param_grid=par,cv=5,scoring='accuracy')\n",
    "    clf_best.fit(X_train,y_train.values.ravel())\n",
    "    \n",
    "    best_classifiers.append(clf_best)\n",
    "    \n",
    "    if name in ['Decision Tree','Random Forest']:\n",
    "        parameters[names.index('Bagging')]['base_estimator'].append(clf_best.best_estimator_)\n",
    "        parameters[names.index('AdaBoost')]['base_estimator'].append(clf_best.best_estimator_)\n",
    "\n",
    "    print('Finished!')\n",
    "    \n",
    "    "
   ]
  },
  {
   "cell_type": "code",
   "execution_count": 68,
   "metadata": {
    "scrolled": false
   },
   "outputs": [
    {
     "name": "stdout",
     "output_type": "stream",
     "text": [
      "The Holdout accuracy of Nearest Neighbors is 0.8913043478260869\n",
      "              precision    recall  f1-score   support\n",
      "\n",
      "         0.0       0.90      0.99      0.94      2878\n",
      "         1.0       0.43      0.07      0.12       342\n",
      "\n",
      "   micro avg       0.89      0.89      0.89      3220\n",
      "   macro avg       0.66      0.53      0.53      3220\n",
      "weighted avg       0.85      0.89      0.85      3220\n",
      "\n",
      "predicted_churn 56.0\n",
      "correct_predicted_churn 24\n",
      "The Holdout accuracy of Decision Tree is 0.8937888198757764\n",
      "              precision    recall  f1-score   support\n",
      "\n",
      "         0.0       0.89      1.00      0.94      2878\n",
      "         1.0       0.50      0.00      0.01       342\n",
      "\n",
      "   micro avg       0.89      0.89      0.89      3220\n",
      "   macro avg       0.70      0.50      0.47      3220\n",
      "weighted avg       0.85      0.89      0.84      3220\n",
      "\n",
      "predicted_churn 2.0\n",
      "correct_predicted_churn 1\n",
      "The Holdout accuracy of Logistic Regression is 0.8937888198757764\n",
      "              precision    recall  f1-score   support\n",
      "\n",
      "         0.0       0.89      1.00      0.94      2878\n",
      "         1.0       0.00      0.00      0.00       342\n",
      "\n",
      "   micro avg       0.89      0.89      0.89      3220\n",
      "   macro avg       0.45      0.50      0.47      3220\n",
      "weighted avg       0.80      0.89      0.84      3220\n",
      "\n",
      "predicted_churn 0.0\n",
      "correct_predicted_churn 0\n",
      "The Holdout accuracy of Random Forest is 0.8975155279503105\n",
      "              precision    recall  f1-score   support\n",
      "\n",
      "         0.0       0.90      1.00      0.95      2878\n",
      "         1.0       0.93      0.04      0.07       342\n",
      "\n",
      "   micro avg       0.90      0.90      0.90      3220\n",
      "   macro avg       0.91      0.52      0.51      3220\n",
      "weighted avg       0.90      0.90      0.85      3220\n",
      "\n",
      "predicted_churn 14.0\n",
      "correct_predicted_churn 13\n",
      "The Holdout accuracy of Naive Bayes is 0.12049689440993788\n",
      "              precision    recall  f1-score   support\n",
      "\n",
      "         0.0       1.00      0.02      0.03      2878\n",
      "         1.0       0.11      1.00      0.19       342\n",
      "\n",
      "   micro avg       0.12      0.12      0.12      3220\n",
      "   macro avg       0.55      0.51      0.11      3220\n",
      "weighted avg       0.91      0.12      0.05      3220\n",
      "\n",
      "predicted_churn 3174.0\n",
      "correct_predicted_churn 342\n",
      "The Holdout accuracy of QDA is 0.1515527950310559\n",
      "              precision    recall  f1-score   support\n",
      "\n",
      "         0.0       0.93      0.05      0.10      2878\n",
      "         1.0       0.11      0.96      0.19       342\n",
      "\n",
      "   micro avg       0.15      0.15      0.15      3220\n",
      "   macro avg       0.52      0.51      0.15      3220\n",
      "weighted avg       0.84      0.15      0.11      3220\n",
      "\n",
      "predicted_churn 3050.0\n",
      "correct_predicted_churn 330\n",
      "The Holdout accuracy of Bagging is 0.8947204968944099\n"
     ]
    },
    {
     "name": "stderr",
     "output_type": "stream",
     "text": [
      "/anaconda3/envs/Py3_R/lib/python3.7/site-packages/sklearn/metrics/classification.py:1143: UndefinedMetricWarning: Precision and F-score are ill-defined and being set to 0.0 in labels with no predicted samples.\n",
      "  'precision', 'predicted', average, warn_for)\n"
     ]
    },
    {
     "name": "stdout",
     "output_type": "stream",
     "text": [
      "              precision    recall  f1-score   support\n",
      "\n",
      "         0.0       0.89      1.00      0.94      2878\n",
      "         1.0       1.00      0.01      0.02       342\n",
      "\n",
      "   micro avg       0.89      0.89      0.89      3220\n",
      "   macro avg       0.95      0.50      0.48      3220\n",
      "weighted avg       0.91      0.89      0.85      3220\n",
      "\n",
      "predicted_churn 3.0\n",
      "correct_predicted_churn 3\n",
      "The Holdout accuracy of AdaBoost is 0.8987577639751553\n",
      "              precision    recall  f1-score   support\n",
      "\n",
      "         0.0       0.90      1.00      0.95      2878\n",
      "         1.0       0.90      0.05      0.10       342\n",
      "\n",
      "   micro avg       0.90      0.90      0.90      3220\n",
      "   macro avg       0.90      0.53      0.52      3220\n",
      "weighted avg       0.90      0.90      0.86      3220\n",
      "\n",
      "predicted_churn 20.0\n",
      "correct_predicted_churn 18\n"
     ]
    }
   ],
   "source": [
    "# score and report by Holdout\n",
    "\n",
    "tp_score_list = []\n",
    "\n",
    "for name, clf_best in zip(names, best_classifiers): \n",
    "    score = clf_best.score(X_test, y_test)\n",
    "\n",
    "    clf_best_pred = clf_best.predict(X_test)\n",
    "\n",
    "    print('The Holdout accuracy of', name, 'is', score)\n",
    "    print(classification_report(y_true = y_test,y_pred = clf_best_pred))\n",
    "    \n",
    "    predicted_churn = sum(clf_best_pred)\n",
    "    correct_predicted_churn = len(set([i for i, x in enumerate(clf_best_pred) if x == 1]) & set ([i for i, x in enumerate(y_test.values.ravel()) if x == 1]))\n",
    "\n",
    "    print('predicted_churn', predicted_churn)\n",
    "    print('correct_predicted_churn', correct_predicted_churn)\n",
    "    \n",
    "    if predicted_churn == 0:\n",
    "        tp_score = 0\n",
    "    else:\n",
    "        tp_score = correct_predicted_churn / (1.0 * predicted_churn)\n",
    "    tp_score_list.append(tp_score)\n",
    "    \n"
   ]
  },
  {
   "cell_type": "code",
   "execution_count": 69,
   "metadata": {
    "scrolled": false
   },
   "outputs": [
    {
     "data": {
      "image/png": "[encoded data removed]",
      "text/plain": [
       "<Figure size 432x288 with 1 Axes>"
      ]
     },
     "metadata": {
      "needs_background": "light"
     },
     "output_type": "display_data"
    },
    {
     "data": {
      "image/png": "[encoded data removed]",
      "text/plain": [
       "<Figure size 432x288 with 1 Axes>"
      ]
     },
     "metadata": {
      "needs_background": "light"
     },
     "output_type": "display_data"
    },
    {
     "data": {
      "image/png": "[encoded data removed]",
      "text/plain": [
       "<Figure size 432x288 with 1 Axes>"
      ]
     },
     "metadata": {
      "needs_background": "light"
     },
     "output_type": "display_data"
    },
    {
     "data": {
      "image/png": "[encoded data removed]",
      "text/plain": [
       "<Figure size 432x288 with 1 Axes>"
      ]
     },
     "metadata": {
      "needs_background": "light"
     },
     "output_type": "display_data"
    },
    {
     "data": {
      "image/png": "[encoded data removed]",
      "text/plain": [
       "<Figure size 432x288 with 1 Axes>"
      ]
     },
     "metadata": {
      "needs_background": "light"
     },
     "output_type": "display_data"
    },
    {
     "data": {
      "image/png": "[encoded data removed]",
      "text/plain": [
       "<Figure size 432x288 with 1 Axes>"
      ]
     },
     "metadata": {
      "needs_background": "light"
     },
     "output_type": "display_data"
    },
    {
     "data": {
      "image/png": "[encoded data removed]",
      "text/plain": [
       "<Figure size 432x288 with 1 Axes>"
      ]
     },
     "metadata": {
      "needs_background": "light"
     },
     "output_type": "display_data"
    },
    {
     "data": {
      "image/png": "[encoded data removed]",
      "text/plain": [
       "<Figure size 432x288 with 1 Axes>"
      ]
     },
     "metadata": {
      "needs_background": "light"
     },
     "output_type": "display_data"
    }
   ],
   "source": [
    "# Evaluating classifiers by ROC\n",
    "\n",
    "X_roc = X_test\n",
    "y_roc = y_test\n",
    "\n",
    "auc_list = []\n",
    "for i in range(len(names)):\n",
    "    pred_prob = best_classifiers[i].predict_proba(X_roc)[:,1]\n",
    "    false_positive_rate, true_positive_rate, thresholds = roc_curve(y_roc, pred_prob)\n",
    "    roc_auc = auc(false_positive_rate, true_positive_rate)    \n",
    "    plt.title(names[i])\n",
    "    plt.plot(false_positive_rate, true_positive_rate,\n",
    "    label='AUC = %0.2f'% roc_auc)\n",
    "    plt.legend(loc='lower right')\n",
    "    plt.plot([0,1],[0,1],'r--')\n",
    "    plt.ylabel('True Positive Rate')\n",
    "    plt.xlabel('False Positive Rate')\n",
    "    plt.show()\n",
    "    \n",
    "    auc_list.append(roc_auc)\n",
    "    \n",
    "ranked_inx = list(reversed(np.argsort(auc_list)))    "
   ]
  },
  {
   "cell_type": "code",
   "execution_count": 70,
   "metadata": {},
   "outputs": [
    {
     "name": "stdout",
     "output_type": "stream",
     "text": [
      "The best estimator is Bagging\n"
     ]
    }
   ],
   "source": [
    "X_to_pred_format = X_to_pred.drop(['id','to_pred'],1)\n",
    "\n",
    "selected_clf_inx = ranked_inx[0]\n",
    "# selected_clf = best_classifiers[selected_clf_inx]\n",
    "\n",
    "# pred = selected_clf.predict(X_to_pred_format)\n",
    "# pred_prob = selected_clf.predict_proba(X_to_pred_format)\n",
    "\n",
    "# y_to_pred['predicted'] = pred\n",
    "# y_to_pred['Churn_probability'] = pred_prob[:,1]\n",
    "# y_to_pred.index = range(1,len(y_to_pred)+1) \n",
    "\n",
    "print('The best estimator is', names[selected_clf_inx])\n",
    "# print 'Churning estimation by', names[selected_clf_inx], ':'\n",
    "# print y_to_pred[y_to_pred['predicted']==1.0][['id','Churn_probability']].sort_values(by='Churn_probability', ascending=False)"
   ]
  },
  {
   "cell_type": "code",
   "execution_count": 71,
   "metadata": {
    "scrolled": false
   },
   "outputs": [
    {
     "name": "stdout",
     "output_type": "stream",
     "text": [
      "Churning estimation by Bagging\n",
      "Empty DataFrame\n",
      "Columns: [id, Churn_probability]\n",
      "Index: []\n"
     ]
    },
    {
     "name": "stderr",
     "output_type": "stream",
     "text": [
      "/anaconda3/envs/Py3_R/lib/python3.7/site-packages/ipykernel_launcher.py:16: SettingWithCopyWarning: \n",
      "A value is trying to be set on a copy of a slice from a DataFrame.\n",
      "Try using .loc[row_indexer,col_indexer] = value instead\n",
      "\n",
      "See the caveats in the documentation: http://pandas.pydata.org/pandas-docs/stable/indexing.html#indexing-view-versus-copy\n",
      "  app.launch_new_instance()\n",
      "/anaconda3/envs/Py3_R/lib/python3.7/site-packages/ipykernel_launcher.py:17: SettingWithCopyWarning: \n",
      "A value is trying to be set on a copy of a slice from a DataFrame.\n",
      "Try using .loc[row_indexer,col_indexer] = value instead\n",
      "\n",
      "See the caveats in the documentation: http://pandas.pydata.org/pandas-docs/stable/indexing.html#indexing-view-versus-copy\n"
     ]
    }
   ],
   "source": [
    "# Now we know the best classifier. \n",
    "# We then train the classifier on the whole labeled dataset X.\n",
    "\n",
    "clf = classifiers[selected_clf_inx]\n",
    "par = parameters[selected_clf_inx]\n",
    "\n",
    "# fit the classifier with all labeled data\n",
    "clf.fit(X,Y.values.ravel())\n",
    "clf_best = GridSearchCV(estimator=clf,param_grid=par,cv=5,scoring='accuracy')\n",
    "clf_best.fit(X,Y.values.ravel())\n",
    "\n",
    "\n",
    "pred = clf_best.predict(X_to_pred_format)\n",
    "pred_prob = clf_best.predict_proba(X_to_pred_format)\n",
    "\n",
    "y_to_pred['Churn_prediction'] = map(int, list(pred))\n",
    "y_to_pred['Churn_probability'] = pred_prob[:,1]\n",
    "y_to_pred.index = range(1,len(y_to_pred)+1) \n",
    "\n",
    "print('Churning estimation by', names[selected_clf_inx])\n",
    "print(y_to_pred[y_to_pred['Churn_prediction']==1.0][['id','Churn_probability']].sort_values(by='Churn_probability', ascending=False))"
   ]
  },
  {
   "cell_type": "code",
   "execution_count": 72,
   "metadata": {
    "scrolled": false
   },
   "outputs": [
    {
     "name": "stdout",
     "output_type": "stream",
     "text": [
      "Feature importance:\n",
      "\n",
      "                                           Feature  Importance\n",
      "19      origin_up_lxidpiddsbxsbosboudacockeimpuepw    0.114864\n",
      "7                         forecast_price_energy_p1    0.102863\n",
      "13                                      net_margin    0.093230\n",
      "9                            forecast_price_pow_p1    0.076608\n",
      "8                         forecast_price_energy_p2    0.068001\n",
      "48                               num_years_antig_6    0.064425\n",
      "0                                         cons_12m    0.048161\n",
      "14                                         pow_max    0.047715\n",
      "2                                  cons_last_month    0.045710\n",
      "12                              margin_net_pow_ele    0.045320\n",
      "17      origin_up_kamkkxfxxuwbdslkwifmmcsiusiuosws    0.041333\n",
      "4                               forecast_cons_year    0.040783\n",
      "3                                forecast_cons_12m    0.028039\n",
      "1                                     cons_gas_12m    0.026874\n",
      "10                                        imp_cons    0.026405\n",
      "11                            margin_gross_pow_ele    0.024715\n",
      "18      origin_up_ldkssxwpmemidmecebumciepifcamkci    0.021630\n",
      "6                          forecast_meter_rent_12m    0.013939\n",
      "46                               num_years_antig_4    0.013694\n",
      "31                                       has_gas_t    0.011694\n",
      "5                         forecast_discount_energy    0.010625\n",
      "28                              prod_changed_False    0.010455\n",
      "29                               prod_changed_True    0.010368\n",
      "24  channel_sales_foosdfpfkusacimwkcsosbicdxkicaua    0.005514\n",
      "47                               num_years_antig_5    0.003342\n",
      "49                               num_years_antig_7    0.001873\n",
      "54                              num_years_antig_12    0.001023\n",
      "27  channel_sales_usilxuppasemubllopkaafesmlibmsdf    0.000411\n",
      "35                                   nb_prod_act_4    0.000386\n",
      "33                                   nb_prod_act_2    0.000002\n",
      "23  channel_sales_fixdbufsefwooaasfcxdxadsiekoceaa    0.000000\n",
      "45                               num_years_antig_3    0.000000\n",
      "16      origin_up_ewxeelcelemmiwuafmddpobolfuxioce    0.000000\n",
      "15      origin_up_aabpopmuoobccoxasfsksebxoxffdcxs    0.000000\n",
      "50                               num_years_antig_8    0.000000\n",
      "43                               num_years_antig_1    0.000000\n",
      "51                               num_years_antig_9    0.000000\n",
      "52                              num_years_antig_10    0.000000\n",
      "53                              num_years_antig_11    0.000000\n",
      "55                              num_years_antig_13    0.000000\n",
      "56                              num_years_antig_15    0.000000\n",
      "44                               num_years_antig_2    0.000000\n",
      "40                                  nb_prod_act_10    0.000000\n",
      "42                                  nb_prod_act_32    0.000000\n",
      "41                                  nb_prod_act_31    0.000000\n",
      "39                                   nb_prod_act_9    0.000000\n",
      "38                                   nb_prod_act_8    0.000000\n",
      "37                                   nb_prod_act_6    0.000000\n",
      "36                                   nb_prod_act_5    0.000000\n",
      "34                                   nb_prod_act_3    0.000000\n",
      "32                                   nb_prod_act_1    0.000000\n",
      "20      origin_up_usapbepcfoloekilkwsdiboslwaxobdp    0.000000\n",
      "30                                       has_gas_f    0.000000\n",
      "21  channel_sales_epumfxlbckeskwekxbiuasklxalciiuu    0.000000\n",
      "22  channel_sales_ewpakwlliwisiwduibdlfmalxowmwpci    0.000000\n",
      "26  channel_sales_sddiedcslfslkckwlfkdpoeeailfpeds    0.000000\n",
      "25  channel_sales_lmkebamcaaclubfxadlmueccxoimlema    0.000000\n",
      "57                              num_years_antig_16    0.000000\n"
     ]
    }
   ],
   "source": [
    "rf = classifiers[names.index('Random Forest')]\n",
    "rf_par = parameters[names.index('Random Forest')]\n",
    "\n",
    "# fit the classifier with all labeled data\n",
    "rf.fit(X,Y.values.ravel())\n",
    "rf_best = GridSearchCV(estimator=rf,param_grid=rf_par,cv=5,scoring='accuracy')\n",
    "rf_best.fit(X,Y.values.ravel())\n",
    "\n",
    "# We use random forest to rank the importance of features.\n",
    "estimator = rf\n",
    "\n",
    "importances = estimator.feature_importances_\n",
    "\n",
    "mean = np.mean([tree.feature_importances_ for tree in estimator.estimators_],\n",
    "             axis=0)\n",
    "\n",
    "print(\"Feature importance:\")\n",
    "print(\"\")\n",
    "\n",
    "X_train_lst = []\n",
    "for column in X_train:\n",
    "     X_train_lst.append(column)\n",
    "\n",
    "X_train_ser = pd.Series(X_train_lst)\n",
    "        \n",
    "\n",
    "feature_imp = pd.DataFrame(\n",
    "{'Feature':X_train_ser,\n",
    " 'Importance':mean})\n",
    "\n",
    "feature_imp.sort_values(by='Importance',inplace=True,ascending=False)\n",
    "print(pd.DataFrame(feature_imp))\n"
   ]
  },
  {
   "cell_type": "code",
   "execution_count": 73,
   "metadata": {
    "collapsed": true
   },
   "outputs": [],
   "source": [
    "y_output = y_to_pred[['Unnamed: 0','id','Churn_probability','Churn_prediction']].sort_values(by='Churn_probability', ascending=False)\n",
    "y_output = y_output.rename(columns = {'Unnamed: 0':''})"
   ]
  },
  {
   "cell_type": "code",
   "execution_count": 74,
   "metadata": {
    "collapsed": true
   },
   "outputs": [],
   "source": [
    "y_output.to_csv('ml_case_test_output.csv',index=False)"
   ]
  },
  {
   "cell_type": "code",
   "execution_count": 75,
   "metadata": {
    "collapsed": true
   },
   "outputs": [],
   "source": [
    "X_raw_test = pd.read_csv(\"ml_case_test_data.csv\")\n",
    "\n",
    "X_raw_test['Churn_prediction'] = y_to_pred['Churn_prediction']\n",
    "X_raw_test['Churn_probability'] = y_to_pred['Churn_probability']"
   ]
  },
  {
   "cell_type": "code",
   "execution_count": 76,
   "metadata": {
    "collapsed": true
   },
   "outputs": [],
   "source": [
    "sheet = X_raw_test[X_raw_test['Churn_prediction']==1]"
   ]
  },
  {
   "cell_type": "code",
   "execution_count": 77,
   "metadata": {},
   "outputs": [
    {
     "data": {
      "text/plain": [
       "Series([], Name: origin_up, dtype: int64)"
      ]
     },
     "execution_count": 77,
     "metadata": {},
     "output_type": "execute_result"
    }
   ],
   "source": [
    "# Inspecting the electricity campaigns of all churning customers\n",
    "sheet[sheet['Churn_prediction']==1]['origin_up'].value_counts()"
   ]
  },
  {
   "cell_type": "code",
   "execution_count": 78,
   "metadata": {
    "collapsed": true
   },
   "outputs": [],
   "source": [
    "# Get those churn customers\n",
    "churn_customers = list(sheet.index)"
   ]
  },
  {
   "cell_type": "code",
   "execution_count": 79,
   "metadata": {
    "collapsed": true
   },
   "outputs": [],
   "source": [
    "from datetime import datetime\n",
    "from dateutil import parser, relativedelta\n",
    "\n",
    "jan_1_2018 = datetime(2018,1,1,0,0)\n",
    "jan_1_2017 = datetime(2017,1,1,0,0)\n",
    "\n",
    "contract_end = []\n",
    "for customer in churn_customers:\n",
    "    dt = parser.parse(list(sheet[['date_end']].loc[customer])[0])\n",
    "    one_month = relativedelta.relativedelta(months=1)\n",
    "    if dt.day > 15:\n",
    "        dt = dt + one_month  \n",
    "    contract_end.append(dt.replace(day = 1))"
   ]
  },
  {
   "cell_type": "code",
   "execution_count": 80,
   "metadata": {
    "collapsed": true
   },
   "outputs": [],
   "source": [
    "next_contract_end = []\n",
    "for dt in contract_end:\n",
    "    next_contract_end.append(dt.replace(year = dt.year+1))"
   ]
  },
  {
   "cell_type": "code",
   "execution_count": 81,
   "metadata": {
    "collapsed": true
   },
   "outputs": [],
   "source": [
    "from dateutil.rrule import rrule, MONTHLY\n",
    "\n",
    "months_betw_contracts_2016= []\n",
    "months_betw_contracts_2017 = []\n",
    "\n",
    "for i in range(len(churn_customers)):\n",
    "    date1 = contract_end[i]\n",
    "    date2 = next_contract_end[i]\n",
    "    months_2016 = [dt for dt in rrule(MONTHLY, dtstart=date1, until=jan_1_2017)]\n",
    "    months_2017 = [dt for dt in rrule(MONTHLY, dtstart=jan_1_2017, until=date2)]\n",
    "    months_2016 = months_2016[:-1]\n",
    "    months_2017 = months_2017[:-1]\n",
    "    months_2016 = len(months_2016)\n",
    "    months_2017 = len(months_2017)\n",
    "    months_betw_contracts_2016.append(months_2016)\n",
    "    months_betw_contracts_2017.append(months_2017)"
   ]
  },
  {
   "cell_type": "code",
   "execution_count": 82,
   "metadata": {
    "collapsed": true
   },
   "outputs": [],
   "source": [
    "months_after_new_contract_2017 = []\n",
    "\n",
    "for i in range(len(churn_customers)):\n",
    "    date1 = next_contract_end[i]\n",
    "    date2 = jan_1_2018\n",
    "    months_2017 = [dt for dt in rrule(MONTHLY, dtstart=date1, until=jan_1_2018)]\n",
    "    months_2017 = months_2017[:-1]\n",
    "    months_2017 = len(months_2017)\n",
    "    months_after_new_contract_2017.append(months_2017)\n"
   ]
  },
  {
   "cell_type": "code",
   "execution_count": 83,
   "metadata": {
    "collapsed": true
   },
   "outputs": [],
   "source": [
    "X_hist_test = pd.read_csv(\"ml_case_test_hist_data.csv\")"
   ]
  },
  {
   "cell_type": "code",
   "execution_count": 84,
   "metadata": {
    "collapsed": true
   },
   "outputs": [],
   "source": [
    "p1_var_avg_list = []\n",
    "p2_var_avg_list = []\n",
    "p3_var_avg_list = []\n",
    "\n",
    "p1_fix_avg_list = []\n",
    "p2_fix_avg_list = []\n",
    "p3_fix_avg_list = []\n",
    "\n",
    "for customer in churn_customers:\n",
    "    customer_id = sheet.loc[customer]['id']\n",
    "    \n",
    "    p1_var_avg = np.mean(X_hist_test[X_hist_test['id']==customer_id]['price_p1_var'])\n",
    "    p2_var_avg = np.mean(X_hist_test[X_hist_test['id']==customer_id]['price_p2_var'])\n",
    "    p3_var_avg = np.mean(X_hist_test[X_hist_test['id']==customer_id]['price_p3_var'])\n",
    "    \n",
    "    p1_var_avg_list.append(p1_var_avg)\n",
    "    p2_var_avg_list.append(p2_var_avg)\n",
    "    p3_var_avg_list.append(p3_var_avg)\n",
    "    \n",
    "    p1_fix_avg = np.mean(X_hist_test[X_hist_test['id']==customer_id]['price_p1_fix'])\n",
    "    p2_fix_avg = np.mean(X_hist_test[X_hist_test['id']==customer_id]['price_p2_fix'])\n",
    "    p3_fix_avg = np.mean(X_hist_test[X_hist_test['id']==customer_id]['price_p3_fix'])\n",
    "    \n",
    "    p1_fix_avg_list.append(p1_fix_avg)\n",
    "    p2_fix_avg_list.append(p2_fix_avg)\n",
    "    p3_fix_avg_list.append(p3_fix_avg)\n",
    "\n",
    "var_avg_list = [ x+y+z for x,y,z in zip(p1_var_avg_list,p2_var_avg_list,p3_var_avg_list) ]\n",
    "fix_avg_list = [ x+y+z for x,y,z in zip(p1_fix_avg_list,p2_fix_avg_list,p3_fix_avg_list) ]"
   ]
  },
  {
   "cell_type": "code",
   "execution_count": 85,
   "metadata": {},
   "outputs": [],
   "source": [
    "b_list = []\n",
    "c_list = []\n",
    "\n",
    "for customer in churn_customers:\n",
    "    \n",
    "    if sheet.loc[customer]['cons_12m'] == 0:\n",
    "        ratio_feb_to_dec = 1\n",
    "    else:\n",
    "        ratio_feb_to_dec = 1- sheet.loc[customer]['cons_last_month']/sheet.loc[customer]['cons_12m']\n",
    "    \n",
    "    cons_avg_month_2016 = (sheet.loc[customer]['forecast_cons_12m' ]*ratio_feb_to_dec)/11.0\n",
    "    cons_avg_month_2017 = (sheet.loc[customer]['forecast_cons_year'])/12.0\n",
    "    \n",
    "#     print(cons_avg_month_2016, cons_avg_month_2017)\n",
    "    \n",
    "    inx = churn_customers.index(customer)\n",
    "    \n",
    "    cons_2016_part_b = cons_avg_month_2016 * months_betw_contracts_2016[inx]\n",
    "    cons_2017_part_b = cons_avg_month_2017 * months_betw_contracts_2017[inx]\n",
    "    \n",
    "    # cons_part_b gives the total consumption of electricity in both 2016 and 2017 before the end of next 12-months contract\n",
    "    cons_part_b = cons_2016_part_b + cons_2017_part_b\n",
    "    \n",
    "    b_var = cons_part_b * var_avg_list[inx]\n",
    "    b_fix = fix_avg_list[inx] * (months_betw_contracts_2016[inx] + months_betw_contracts_2017[inx])\n",
    "    revenue_b = b_var + b_fix\n",
    "    \n",
    "    net_margin = sheet.loc[customer]['margin_net_pow_ele' ]/100.0\n",
    "    b = revenue_b * net_margin\n",
    "    \n",
    "    # cons_part_b gives the total consumption of electricity after the next 12-months contract in 2017 \n",
    "    cons_part_c = cons_avg_month_2017 * months_after_new_contract_2017[inx]\n",
    "    c_var = cons_part_c * var_avg_list[inx]\n",
    "    c_fix = fix_avg_list[inx] * months_after_new_contract_2017[inx]\n",
    "    revenue_c = c_var + c_fix\n",
    "    \n",
    "    c = revenue_c * net_margin\n",
    "    \n",
    "    b_list.append(b)\n",
    "    c_list.append(c)"
   ]
  },
  {
   "cell_type": "code",
   "execution_count": 86,
   "metadata": {},
   "outputs": [],
   "source": [
    "discount_customers = []\n",
    "for customer in churn_customers:\n",
    "    churn_prob = sheet.loc[customer]['Churn_probability']\n",
    "    inx = churn_customers.index(customer)\n",
    "    \n",
    "    profit_discount = 0.8 * b_list[inx] + c_list[inx]\n",
    "    profit_no_discount = (1-churn_prob)*(b_list[inx]+c_list[inx])\n",
    "    \n",
    "#     print(profit_no_discount, profit_discount)\n",
    "        \n",
    "    if profit_no_discount < profit_discount:\n",
    "        discount_customers.append(customer)\n"
   ]
  },
  {
   "cell_type": "code",
   "execution_count": 87,
   "metadata": {},
   "outputs": [
    {
     "data": {
      "text/plain": [
       "[]"
      ]
     },
     "execution_count": 87,
     "metadata": {},
     "output_type": "execute_result"
    }
   ],
   "source": [
    "# Below are the customers who churn\n",
    "churn_customers"
   ]
  },
  {
   "cell_type": "code",
   "execution_count": 88,
   "metadata": {},
   "outputs": [
    {
     "data": {
      "text/plain": [
       "[]"
      ]
     },
     "execution_count": 88,
     "metadata": {},
     "output_type": "execute_result"
    }
   ],
   "source": [
    "# Below are the customers who should be given a discount\n",
    "discount_customers"
   ]
  },
  {
   "cell_type": "code",
   "execution_count": 89,
   "metadata": {},
   "outputs": [
    {
     "name": "stdout",
     "output_type": "stream",
     "text": [
      "Empty DataFrame\n",
      "Columns: [id, Churn_probability]\n",
      "Index: []\n"
     ]
    }
   ],
   "source": [
    "# Customers who should be given a discount, in table form\n",
    "print(sheet.loc[discount_customers][['id','Churn_probability']].sort_values(by='Churn_probability', ascending=False))"
   ]
  },
  {
   "cell_type": "code",
   "execution_count": 90,
   "metadata": {},
   "outputs": [
    {
     "name": "stdout",
     "output_type": "stream",
     "text": [
      "The following profits are calculated only for the churning customers:\n",
      "\n",
      "Ideal profit is  0\n",
      "Giving no churning customers discount yields profit 0\n",
      "Giving all churning customers discount yields profit  0\n",
      "Giving selected churning customers discount yields profit 0\n",
      "\n"
     ]
    },
    {
     "ename": "ZeroDivisionError",
     "evalue": "division by zero",
     "output_type": "error",
     "traceback": [
      "\u001b[0;31m---------------------------------------------------------------------------\u001b[0m",
      "\u001b[0;31mZeroDivisionError\u001b[0m                         Traceback (most recent call last)",
      "\u001b[0;32m<ipython-input-90-5c74f7cbcf7e>\u001b[0m in \u001b[0;36m<module>\u001b[0;34m\u001b[0m\n\u001b[1;32m     24\u001b[0m \u001b[0mprint\u001b[0m\u001b[0;34m(\u001b[0m\u001b[0;34m'Giving selected churning customers discount yields profit'\u001b[0m\u001b[0;34m,\u001b[0m \u001b[0mtotal_profit_opt_discount\u001b[0m\u001b[0;34m)\u001b[0m\u001b[0;34m\u001b[0m\u001b[0;34m\u001b[0m\u001b[0m\n\u001b[1;32m     25\u001b[0m \u001b[0mprint\u001b[0m\u001b[0;34m(\u001b[0m\u001b[0;34m''\u001b[0m\u001b[0;34m)\u001b[0m\u001b[0;34m\u001b[0m\u001b[0;34m\u001b[0m\u001b[0m\n\u001b[0;32m---> 26\u001b[0;31m \u001b[0mprint\u001b[0m\u001b[0;34m(\u001b[0m\u001b[0;34m'Giving discount may increase profit for these churning customers by'\u001b[0m\u001b[0;34m,\u001b[0m \u001b[0;34m(\u001b[0m\u001b[0mtotal_profit_opt_discount\u001b[0m\u001b[0;34m-\u001b[0m\u001b[0mtotal_profit_no_discount\u001b[0m\u001b[0;34m)\u001b[0m\u001b[0;34m/\u001b[0m\u001b[0mtotal_profit_no_discount\u001b[0m \u001b[0;34m*\u001b[0m \u001b[0;36m100\u001b[0m\u001b[0;34m,\u001b[0m \u001b[0;34m'%'\u001b[0m \u001b[0;34m)\u001b[0m\u001b[0;34m\u001b[0m\u001b[0;34m\u001b[0m\u001b[0m\n\u001b[0m",
      "\u001b[0;31mZeroDivisionError\u001b[0m: division by zero"
     ]
    }
   ],
   "source": [
    "# Profit b+c\n",
    "\n",
    "total_profit_no_discount = 0\n",
    "total_profit_all_discount = 0\n",
    "total_profit_opt_discount = 0\n",
    "total_profit_ideal = 0\n",
    "\n",
    "for customer in churn_customers:\n",
    "    inx = churn_customers.index(customer)\n",
    "    profit_discount = 0.8 * b_list[inx] + c_list[inx]\n",
    "    profit_no_discount = (1-churn_prob)*(b_list[inx]+c_list[inx])\n",
    "    profit_ideal = b_list[inx] + c_list[inx]\n",
    "    \n",
    "    total_profit_no_discount += profit_no_discount\n",
    "    total_profit_all_discount += profit_discount\n",
    "    total_profit_opt_discount += max(profit_no_discount, profit_discount)\n",
    "    total_profit_ideal += profit_ideal\n",
    "    \n",
    "print('The following profits are calculated only for the churning customers:')\n",
    "print('')\n",
    "print('Ideal profit is ', total_profit_ideal)\n",
    "print('Giving no churning customers discount yields profit', total_profit_no_discount)\n",
    "print('Giving all churning customers discount yields profit ', total_profit_all_discount)\n",
    "print('Giving selected churning customers discount yields profit', total_profit_opt_discount)\n",
    "print('')\n",
    "print('Giving discount may increase profit for these churning customers by', (total_profit_opt_discount-total_profit_no_discount)/total_profit_no_discount * 100, '%' )  \n"
   ]
  },
  {
   "cell_type": "code",
   "execution_count": null,
   "metadata": {},
   "outputs": [],
   "source": [
    "import matplotlib.pyplot as plt\n",
    "plt.bar([0,1,2,3],[total_profit_no_discount,total_profit_all_discount,total_profit_opt_discount,total_profit_ideal])\n",
    "# plt.title('Probability of changing product for churning customers')\n",
    "plt.ylabel('Expectation of Profit of All Churning Customers')\n",
    "plt.xticks([0,1,2,3],['Discount None','Discount All', 'Discount Selected','Ideal'])\n",
    "plt.show()"
   ]
  }
 ],
 "metadata": {
  "kernelspec": {
   "display_name": "Python 3",
   "language": "python",
   "name": "python3"
  },
  "language_info": {
   "codemirror_mode": {
    "name": "ipython",
    "version": 3
   },
   "file_extension": ".py",
   "mimetype": "text/x-python",
   "name": "python",
   "nbconvert_exporter": "python",
   "pygments_lexer": "ipython3",
   "version": "3.7.3"
  }
 },
 "nbformat": 4,
 "nbformat_minor": 2
}
